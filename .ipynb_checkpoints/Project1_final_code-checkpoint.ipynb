{
 "cells": [
  {
   "cell_type": "markdown",
   "id": "30b935a8-51a3-4923-a860-f92065ba5446",
   "metadata": {},
   "source": [
    "# Exploring hurricane features and clustering methods"
   ]
  },
  {
   "cell_type": "markdown",
   "id": "dfb22e4d-38e2-4e39-89d3-3c9e26dbb5f1",
   "metadata": {},
   "source": [
    "## Step 1: Preparation: install packages, import packages and download data"
   ]
  },
  {
   "cell_type": "markdown",
   "id": "ead63b75-1135-4e35-a209-4e66ba83b3f1",
   "metadata": {},
   "source": [
    "### Import modules"
   ]
  },
  {
   "cell_type": "code",
   "execution_count": 22,
   "id": "42045110-f7a8-48b0-9ed5-aa15241d67e0",
   "metadata": {},
   "outputs": [
    {
     "name": "stdout",
     "output_type": "stream",
     "text": [
      "Requirement already satisfied: minisom in /srv/conda/envs/notebook/lib/python3.12/site-packages (2.3.3)\n"
     ]
    }
   ],
   "source": [
    "!pip install minisom\n",
    "import xarray as xr\n",
    "import numpy as np\n",
    "import pandas as pd\n",
    "import seaborn as sn\n",
    "import matplotlib.pyplot as plt\n",
    "from sklearn.linear_model import LinearRegression\n",
    "from sklearn.model_selection import train_test_split\n",
    "from sklearn.ensemble import RandomForestRegressor\n",
    "from sklearn.mixture import GaussianMixture\n",
    "from sklearn.preprocessing import StandardScaler\n",
    "from sklearn.decomposition import PCA\n",
    "from sklearn.cluster import KMeans, DBSCAN, AgglomerativeClustering, SpectralClustering, OPTICS, Birch\n",
    "from sklearn.metrics import adjusted_rand_score, normalized_mutual_info_score, homogeneity_score, completeness_score, v_measure_score\n",
    "from minisom import MiniSom\n",
    "\n",
    "scaler = StandardScaler()"
   ]
  },
  {
   "cell_type": "markdown",
   "id": "0a6b9da9-6649-4fa9-ade3-528cd7eeeca3",
   "metadata": {},
   "source": [
    "### Import IBTrACS dataset"
   ]
  },
  {
   "cell_type": "code",
   "execution_count": 23,
   "id": "b54e4392-bae8-418f-a17c-31b499befcd9",
   "metadata": {},
   "outputs": [
    {
     "name": "stderr",
     "output_type": "stream",
     "text": [
      "/tmp/ipykernel_653/2870609371.py:2: FutureWarning: The return type of `Dataset.dims` will be changed to return a set of dimension names in future, in order to be more consistent with `DataArray.dims`. To access a mapping from dimension names to lengths, please use `Dataset.sizes`.\n",
      "  num_storms = tks.dims['storm']\n"
     ]
    }
   ],
   "source": [
    "tks = xr.open_dataset('data/NA_data.nc', engine=\"netcdf4\", decode_times=False)\n",
    "num_storms = tks.dims['storm']"
   ]
  },
  {
   "cell_type": "markdown",
   "id": "78e48e21-9319-4492-bb23-c09e17c02a8c",
   "metadata": {},
   "source": [
    "## Step 2: Feature selection based on PDI"
   ]
  },
  {
   "cell_type": "markdown",
   "id": "9ce44088-7ab2-4ed4-bd67-a73141c39d50",
   "metadata": {},
   "source": [
    "### Create feature selection datasets"
   ]
  },
  {
   "cell_type": "code",
   "execution_count": null,
   "id": "a86ff2aa-3bc4-42ca-b257-41b2411db9cc",
   "metadata": {},
   "outputs": [],
   "source": [
    "pdi_df = pd.read_csv('PDI_max.csv')"
   ]
  },
  {
   "cell_type": "code",
   "execution_count": null,
   "id": "e4577d1d-b423-45b0-a221-6fe5c54e8437",
   "metadata": {},
   "outputs": [],
   "source": [
    "vars_alltrack_df = pd.read_csv('Storm_Vars_allTrack.csv')"
   ]
  },
  {
   "cell_type": "code",
   "execution_count": null,
   "id": "ea12cea5-db59-4ba5-a303-6d50ab03e4ec",
   "metadata": {},
   "outputs": [],
   "source": [
    "vars_storms_df = pd.read_csv('Storm_Vars_Storm.csv')"
   ]
  },
  {
   "cell_type": "markdown",
   "id": "3c669395-600d-4045-9791-c85b0c274770",
   "metadata": {},
   "source": [
    "### Simple linear regression"
   ]
  },
  {
   "cell_type": "markdown",
   "id": "dd81034a-ebbb-4725-9f0c-597ee3123137",
   "metadata": {},
   "source": [
    "### Ridge regression"
   ]
  },
  {
   "cell_type": "markdown",
   "id": "d18ce374-19a3-44ae-9d3d-bdf0b6d6d6a9",
   "metadata": {},
   "source": [
    "### Random forest"
   ]
  },
  {
   "cell_type": "markdown",
   "id": "226a76cc-f47b-4797-8c42-5ebe8c2cb72d",
   "metadata": {},
   "source": [
    "## Step 3: Clustering algorithms"
   ]
  },
  {
   "cell_type": "markdown",
   "id": "3541cb60-dfe2-4853-9b80-ae0142140f1f",
   "metadata": {},
   "source": [
    "## Step 4: Cluster analysis and evaluation"
   ]
  },
  {
   "cell_type": "code",
   "execution_count": null,
   "id": "d3e80110-2e6c-4176-a474-7fefca89b628",
   "metadata": {},
   "outputs": [],
   "source": []
  },
  {
   "cell_type": "code",
   "execution_count": null,
   "id": "32a0df17-6837-4f5c-8f5e-465a30c58b37",
   "metadata": {},
   "outputs": [],
   "source": []
  }
 ],
 "metadata": {
  "kernelspec": {
   "display_name": "Python 3 (ipykernel)",
   "language": "python",
   "name": "python3"
  },
  "language_info": {
   "codemirror_mode": {
    "name": "ipython",
    "version": 3
   },
   "file_extension": ".py",
   "mimetype": "text/x-python",
   "name": "python",
   "nbconvert_exporter": "python",
   "pygments_lexer": "ipython3",
   "version": "3.12.7"
  }
 },
 "nbformat": 4,
 "nbformat_minor": 5
}
