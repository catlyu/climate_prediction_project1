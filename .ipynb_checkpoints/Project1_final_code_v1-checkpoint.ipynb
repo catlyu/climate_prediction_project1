{
 "cells": [
  {
   "cell_type": "markdown",
   "id": "30b935a8-51a3-4923-a860-f92065ba5446",
   "metadata": {},
   "source": [
    "# Exploring hurricane features and clustering methods"
   ]
  },
  {
   "cell_type": "markdown",
   "id": "466b1fb1-7b49-4fa9-9294-45ec09c42d69",
   "metadata": {
    "id": "f29WJGTf_A0g"
   },
   "source": [
    "## Step 0: Same set up as the starter notebook"
   ]
  },
  {
   "cell_type": "code",
   "execution_count": 4,
   "id": "3b73b2a8-e9ce-4ffe-87a0-3e4020dcdda9",
   "metadata": {
    "id": "vvWsqLU6F3eG"
   },
   "outputs": [],
   "source": [
    "import os\n",
    "cwd=os.getcwd()\n",
    "\n",
    "cwd_data=cwd+'/data'\n",
    "\n",
    "if not os.path.exists(cwd_data):\n",
    "    os.mkdir(cwd_data)"
   ]
  },
  {
   "cell_type": "markdown",
   "id": "9b6f61a1-e770-49f6-ab2e-deaf8b4f45ef",
   "metadata": {
    "id": "6Wn73aKZIDLw"
   },
   "source": [
    "\n",
    "Setup a subfolder for downloaded raw data and another subfolder for outputs. This prevents you from overwrites raw data by accident.\n",
    "\n",
    "You can check that this new folder called 'data' was created. To view the files in your workspace, click on the 'File Browser' buttom at the left side-bar.\n",
    "\n",
    "This folder will be used to store data which will be later downloaded.\n",
    "\n",
    "---\n",
    "\n"
   ]
  },
  {
   "cell_type": "code",
   "execution_count": 5,
   "id": "248bf606-519a-4e39-b1e9-70c263d8119c",
   "metadata": {
    "id": "BnibQdXPWcNw"
   },
   "outputs": [],
   "source": [
    "%%capture\n",
    "# These uninstallation must be done to ensure that no version conflicts would happen.\n",
    "!pip uninstall --yes cartopy\n",
    "!pip uninstall --yes shapely\n",
    "# Shapely and cartopy are used for graphing maps and tracks.\n",
    "!pip install shapely cartopy\n",
    "!pip install gender_guesser"
   ]
  },
  {
   "cell_type": "code",
   "execution_count": 6,
   "id": "3900d7c1-5e50-44e4-884d-11a66627e350",
   "metadata": {
    "id": "8CyaGajxGdwF"
   },
   "outputs": [],
   "source": [
    "import cartopy.crs as ccrs # used for map projection\n",
    "import matplotlib.pyplot as plt # matplotlib\n",
    "import cartopy.feature as cfeature # used for map projection\n",
    "import xarray as xr # x-array\n",
    "import numpy as np # numpy\n",
    "import urllib.request # download request\n",
    "import warnings # to suppress warnings\n",
    "import gender_guesser.detector as gender # for analyzing the names of hurricanes\n",
    "from numpy import linalg as LA # to plot the moments (by calculating the eigenvalues)\n",
    "from sklearn.cluster import k_means # to perform k-means\n",
    "from collections import Counter # set operations\n",
    "warnings.filterwarnings('ignore')"
   ]
  },
  {
   "cell_type": "code",
   "execution_count": 7,
   "id": "3b0d48f8-2796-401d-9172-37fee80d80d1",
   "metadata": {},
   "outputs": [
    {
     "name": "stdout",
     "output_type": "stream",
     "text": [
      "File downloaded successfully.\n"
     ]
    }
   ],
   "source": [
    "import requests\n",
    "\n",
    "# IBTrACS.NA.v04r00.nc presents data from 1842-10-25 through 2023-06-07 \n",
    "url = 'https://www.ncei.noaa.gov/data/international-best-track-archive-for-climate-stewardship-ibtracs/v04r00/access/netcdf/IBTrACS.NA.v04r00.nc'\n",
    "output_file = 'data/NA_data.nc'\n",
    "\n",
    "try:\n",
    "    response = requests.get(url, timeout=60)\n",
    "    response.raise_for_status()  # Raise an error for HTTP codes >= 400\n",
    "    with open(output_file, 'wb') as f:\n",
    "        f.write(response.content)\n",
    "    print(\"File downloaded successfully.\")\n",
    "except requests.exceptions.RequestException as e:\n",
    "    print(f\"Request failed: {e}\")\n"
   ]
  },
  {
   "cell_type": "code",
   "execution_count": 8,
   "id": "659df1d6-f86d-4660-abd6-a943e9dad59d",
   "metadata": {
    "id": "BuDEE-7-4ksZ",
    "scrolled": true,
    "tags": []
   },
   "outputs": [],
   "source": [
    "# Download the needed track file\n",
    "filedata = urllib.request.urlopen('https://www.ncei.noaa.gov/data/international-best-track-archive-for-climate-stewardship-ibtracs/v04r00/access/netcdf/IBTrACS.NA.v04r00.nc')\n",
    "\n",
    "datatowrite = filedata.read()\n",
    "\n",
    "with open('data/NA_data.nc', 'wb') as f:   \n",
    "    f.write(datatowrite)"
   ]
  },
  {
   "cell_type": "markdown",
   "id": "dfb22e4d-38e2-4e39-89d3-3c9e26dbb5f1",
   "metadata": {},
   "source": [
    "## Step 1: Preparation: install packages, import packages and download data"
   ]
  },
  {
   "cell_type": "markdown",
   "id": "ead63b75-1135-4e35-a209-4e66ba83b3f1",
   "metadata": {},
   "source": [
    "### Import modules"
   ]
  },
  {
   "cell_type": "code",
   "execution_count": 31,
   "id": "42045110-f7a8-48b0-9ed5-aa15241d67e0",
   "metadata": {},
   "outputs": [
    {
     "name": "stdout",
     "output_type": "stream",
     "text": [
      "Requirement already satisfied: minisom in /srv/conda/envs/notebook/lib/python3.12/site-packages (2.3.3)\n"
     ]
    }
   ],
   "source": [
    "!pip install minisom\n",
    "import xarray as xr\n",
    "import numpy as np\n",
    "import pandas as pd\n",
    "import seaborn as sns\n",
    "import matplotlib.pyplot as plt\n",
    "from sklearn.linear_model import LinearRegression\n",
    "from sklearn.model_selection import train_test_split\n",
    "from sklearn.ensemble import RandomForestRegressor\n",
    "from sklearn.mixture import GaussianMixture\n",
    "from sklearn.preprocessing import StandardScaler\n",
    "from sklearn.decomposition import PCA\n",
    "from sklearn.cluster import KMeans, DBSCAN, AgglomerativeClustering, SpectralClustering, OPTICS, Birch\n",
    "from sklearn.metrics import adjusted_rand_score, normalized_mutual_info_score, homogeneity_score, completeness_score, v_measure_score\n",
    "from minisom import MiniSom\n",
    "\n",
    "scaler = StandardScaler()"
   ]
  },
  {
   "cell_type": "markdown",
   "id": "0a6b9da9-6649-4fa9-ade3-528cd7eeeca3",
   "metadata": {},
   "source": [
    "### Import IBTrACS dataset"
   ]
  },
  {
   "cell_type": "code",
   "execution_count": 10,
   "id": "b54e4392-bae8-418f-a17c-31b499befcd9",
   "metadata": {},
   "outputs": [],
   "source": [
    "tks = xr.open_dataset('data/NA_data.nc', engine=\"netcdf4\", decode_times=False)\n",
    "num_storms = tks.dims['storm']"
   ]
  },
  {
   "cell_type": "markdown",
   "id": "78e48e21-9319-4492-bb23-c09e17c02a8c",
   "metadata": {},
   "source": [
    "## Step 2: Feature selection based on PDI"
   ]
  },
  {
   "cell_type": "markdown",
   "id": "9ce44088-7ab2-4ed4-bd67-a73141c39d50",
   "metadata": {},
   "source": [
    "### Create feature selection datasets"
   ]
  },
  {
   "cell_type": "code",
   "execution_count": 11,
   "id": "a86ff2aa-3bc4-42ca-b257-41b2411db9cc",
   "metadata": {},
   "outputs": [],
   "source": [
    "pdi_df = pd.read_csv('PDI_max.csv')"
   ]
  },
  {
   "cell_type": "code",
   "execution_count": 12,
   "id": "e4577d1d-b423-45b0-a221-6fe5c54e8437",
   "metadata": {},
   "outputs": [],
   "source": [
    "vars_alltrack_df = pd.read_csv('Storm_Vars_allTrack.csv')"
   ]
  },
  {
   "cell_type": "code",
   "execution_count": 13,
   "id": "ea12cea5-db59-4ba5-a303-6d50ab03e4ec",
   "metadata": {},
   "outputs": [],
   "source": [
    "vars_storm_df = pd.read_csv('Storm_Vars_Storm.csv')"
   ]
  },
  {
   "cell_type": "code",
   "execution_count": 15,
   "id": "b7a13aa7-a9da-4631-8445-ed2e49367096",
   "metadata": {},
   "outputs": [
    {
     "name": "stdout",
     "output_type": "stream",
     "text": [
      "shape of initial features_df: (2344, 5)\n"
     ]
    }
   ],
   "source": [
    "num_storms = tks.dims['storm']\n",
    "feature_data = []\n",
    "\n",
    "for i in range(num_storms):\n",
    "    n_obs = int(tks.numobs.isel(storm=i).values)\n",
    "    \n",
    "    lat_vals = tks.lat.isel(storm=i, date_time=slice(0, n_obs)).values\n",
    "    lon_vals = tks.lon.isel(storm=i, date_time=slice(0, n_obs)).values\n",
    "\n",
    "    d2l_vals = tks.dist2land.isel(storm=i, date_time=slice(0, n_obs)).values\n",
    "    \n",
    "    # lon & lat & distance to land: take the first entry for each\n",
    "    init_lat = lat_vals[0] if n_obs > 0 else np.nan\n",
    "    init_lon = lon_vals[0] if n_obs > 0 else np.nan\n",
    "    init_d2l = d2l_vals[0] if n_obs > 0 else np.nan\n",
    "    \n",
    "    # season: this is a single value per storm in IBTrACS\n",
    "    storm_season = tks.season.isel(storm=i).values  \n",
    "    storm_season = int(storm_season) if not np.isnan(storm_season) else -999\n",
    "    \n",
    "    feature_data.append({\n",
    "        \"storm_id\": i,\n",
    "        \"season\": storm_season,\n",
    "        \"init_lat\": init_lat,\n",
    "        \"init_lon\": init_lon,\n",
    "        \"init_dist2land\": init_d2l,\n",
    "    })\n",
    "\n",
    "initial_features_df = pd.DataFrame(feature_data)\n",
    "print(\"shape of initial features_df:\", initial_features_df.shape)"
   ]
  },
  {
   "cell_type": "code",
   "execution_count": 16,
   "id": "f0a9e279-269e-4cc2-9f08-fb0ed5786314",
   "metadata": {},
   "outputs": [],
   "source": [
    "candidate_features_df = pd.concat([initial_features_df, vars_storm_df], axis=1)"
   ]
  },
  {
   "cell_type": "code",
   "execution_count": 17,
   "id": "354fbcca-d41f-4648-bdf0-63eaaa9a0fb6",
   "metadata": {},
   "outputs": [],
   "source": [
    "candidate_features_df.to_csv('candidate_features.csv')"
   ]
  },
  {
   "cell_type": "code",
   "execution_count": 18,
   "id": "be0c6eee-c6a3-466a-9bd9-9af8d3721638",
   "metadata": {},
   "outputs": [
    {
     "data": {
      "text/html": [
       "<div>\n",
       "<style scoped>\n",
       "    .dataframe tbody tr th:only-of-type {\n",
       "        vertical-align: middle;\n",
       "    }\n",
       "\n",
       "    .dataframe tbody tr th {\n",
       "        vertical-align: top;\n",
       "    }\n",
       "\n",
       "    .dataframe thead th {\n",
       "        text-align: right;\n",
       "    }\n",
       "</style>\n",
       "<table border=\"1\" class=\"dataframe\">\n",
       "  <thead>\n",
       "    <tr style=\"text-align: right;\">\n",
       "      <th></th>\n",
       "      <th>Unnamed: 0</th>\n",
       "      <th>storm_id</th>\n",
       "      <th>season</th>\n",
       "      <th>init_lat</th>\n",
       "      <th>init_lon</th>\n",
       "      <th>init_dist2land</th>\n",
       "      <th>PDI_max_wmo</th>\n",
       "      <th>PDI_max_usa</th>\n",
       "      <th>PDI_max_tokyo</th>\n",
       "      <th>Pres_min_wmo</th>\n",
       "      <th>r34_max_wmo</th>\n",
       "      <th>r50_max_wmo</th>\n",
       "      <th>r64_max_wmo</th>\n",
       "      <th>storm_speed_max_wmo</th>\n",
       "      <th>lon_weighted</th>\n",
       "      <th>lat_weighted</th>\n",
       "      <th>lon_variance</th>\n",
       "      <th>lat_variance</th>\n",
       "      <th>latlon_covariance</th>\n",
       "      <th>DayofYear_mean</th>\n",
       "    </tr>\n",
       "  </thead>\n",
       "  <tbody>\n",
       "    <tr>\n",
       "      <th>0</th>\n",
       "      <td>0</td>\n",
       "      <td>0</td>\n",
       "      <td>1851</td>\n",
       "      <td>26.100000</td>\n",
       "      <td>-90.400010</td>\n",
       "      <td>335.0</td>\n",
       "      <td>230400000.0</td>\n",
       "      <td>230400000.0</td>\n",
       "      <td>NaN</td>\n",
       "      <td>NaN</td>\n",
       "      <td>NaN</td>\n",
       "      <td>NaN</td>\n",
       "      <td>NaN</td>\n",
       "      <td>10.0</td>\n",
       "      <td>-95.977188</td>\n",
       "      <td>28.109417</td>\n",
       "      <td>10.513896</td>\n",
       "      <td>1.790610</td>\n",
       "      <td>-4.143782</td>\n",
       "      <td>176.297297</td>\n",
       "    </tr>\n",
       "    <tr>\n",
       "      <th>5</th>\n",
       "      <td>5</td>\n",
       "      <td>5</td>\n",
       "      <td>1851</td>\n",
       "      <td>13.366668</td>\n",
       "      <td>-47.200000</td>\n",
       "      <td>1093.0</td>\n",
       "      <td>450000000.0</td>\n",
       "      <td>450000000.0</td>\n",
       "      <td>NaN</td>\n",
       "      <td>NaN</td>\n",
       "      <td>NaN</td>\n",
       "      <td>NaN</td>\n",
       "      <td>NaN</td>\n",
       "      <td>42.0</td>\n",
       "      <td>-71.305283</td>\n",
       "      <td>27.337032</td>\n",
       "      <td>159.509905</td>\n",
       "      <td>113.445331</td>\n",
       "      <td>-1.327559</td>\n",
       "      <td>233.696970</td>\n",
       "    </tr>\n",
       "    <tr>\n",
       "      <th>10</th>\n",
       "      <td>10</td>\n",
       "      <td>10</td>\n",
       "      <td>1851</td>\n",
       "      <td>32.500000</td>\n",
       "      <td>-73.500000</td>\n",
       "      <td>370.0</td>\n",
       "      <td>56250000.0</td>\n",
       "      <td>56250000.0</td>\n",
       "      <td>NaN</td>\n",
       "      <td>NaN</td>\n",
       "      <td>NaN</td>\n",
       "      <td>NaN</td>\n",
       "      <td>NaN</td>\n",
       "      <td>0.0</td>\n",
       "      <td>-73.500000</td>\n",
       "      <td>32.500000</td>\n",
       "      <td>0.000000</td>\n",
       "      <td>0.000000</td>\n",
       "      <td>0.000000</td>\n",
       "      <td>257.451613</td>\n",
       "    </tr>\n",
       "    <tr>\n",
       "      <th>13</th>\n",
       "      <td>13</td>\n",
       "      <td>13</td>\n",
       "      <td>1851</td>\n",
       "      <td>28.700000</td>\n",
       "      <td>-78.000000</td>\n",
       "      <td>244.0</td>\n",
       "      <td>97200000.0</td>\n",
       "      <td>97200000.0</td>\n",
       "      <td>NaN</td>\n",
       "      <td>NaN</td>\n",
       "      <td>NaN</td>\n",
       "      <td>NaN</td>\n",
       "      <td>NaN</td>\n",
       "      <td>18.0</td>\n",
       "      <td>-74.929146</td>\n",
       "      <td>33.427444</td>\n",
       "      <td>4.623666</td>\n",
       "      <td>14.761514</td>\n",
       "      <td>7.975834</td>\n",
       "      <td>290.451613</td>\n",
       "    </tr>\n",
       "    <tr>\n",
       "      <th>15</th>\n",
       "      <td>15</td>\n",
       "      <td>15</td>\n",
       "      <td>1852</td>\n",
       "      <td>20.633331</td>\n",
       "      <td>-67.333336</td>\n",
       "      <td>243.0</td>\n",
       "      <td>450000000.0</td>\n",
       "      <td>450000000.0</td>\n",
       "      <td>NaN</td>\n",
       "      <td>961.0</td>\n",
       "      <td>NaN</td>\n",
       "      <td>NaN</td>\n",
       "      <td>NaN</td>\n",
       "      <td>25.0</td>\n",
       "      <td>-79.829987</td>\n",
       "      <td>27.812145</td>\n",
       "      <td>49.933213</td>\n",
       "      <td>29.701519</td>\n",
       "      <td>-3.927940</td>\n",
       "      <td>237.067416</td>\n",
       "    </tr>\n",
       "    <tr>\n",
       "      <th>...</th>\n",
       "      <td>...</td>\n",
       "      <td>...</td>\n",
       "      <td>...</td>\n",
       "      <td>...</td>\n",
       "      <td>...</td>\n",
       "      <td>...</td>\n",
       "      <td>...</td>\n",
       "      <td>...</td>\n",
       "      <td>...</td>\n",
       "      <td>...</td>\n",
       "      <td>...</td>\n",
       "      <td>...</td>\n",
       "      <td>...</td>\n",
       "      <td>...</td>\n",
       "      <td>...</td>\n",
       "      <td>...</td>\n",
       "      <td>...</td>\n",
       "      <td>...</td>\n",
       "      <td>...</td>\n",
       "      <td>...</td>\n",
       "    </tr>\n",
       "    <tr>\n",
       "      <th>2339</th>\n",
       "      <td>2339</td>\n",
       "      <td>2339</td>\n",
       "      <td>2023</td>\n",
       "      <td>15.600000</td>\n",
       "      <td>-44.500000</td>\n",
       "      <td>1462.0</td>\n",
       "      <td>NaN</td>\n",
       "      <td>41006248.0</td>\n",
       "      <td>NaN</td>\n",
       "      <td>NaN</td>\n",
       "      <td>130.0</td>\n",
       "      <td>NaN</td>\n",
       "      <td>NaN</td>\n",
       "      <td>16.0</td>\n",
       "      <td>-49.456161</td>\n",
       "      <td>20.863829</td>\n",
       "      <td>12.861205</td>\n",
       "      <td>9.304074</td>\n",
       "      <td>-10.854178</td>\n",
       "      <td>272.677419</td>\n",
       "    </tr>\n",
       "    <tr>\n",
       "      <th>2340</th>\n",
       "      <td>2340</td>\n",
       "      <td>2340</td>\n",
       "      <td>2023</td>\n",
       "      <td>9.600000</td>\n",
       "      <td>-30.199999</td>\n",
       "      <td>1494.0</td>\n",
       "      <td>NaN</td>\n",
       "      <td>28800000.0</td>\n",
       "      <td>NaN</td>\n",
       "      <td>NaN</td>\n",
       "      <td>80.0</td>\n",
       "      <td>NaN</td>\n",
       "      <td>NaN</td>\n",
       "      <td>14.0</td>\n",
       "      <td>-41.333111</td>\n",
       "      <td>14.529725</td>\n",
       "      <td>36.979959</td>\n",
       "      <td>8.056544</td>\n",
       "      <td>-17.081282</td>\n",
       "      <td>286.306122</td>\n",
       "    </tr>\n",
       "    <tr>\n",
       "      <th>2341</th>\n",
       "      <td>2341</td>\n",
       "      <td>2341</td>\n",
       "      <td>2023</td>\n",
       "      <td>12.966667</td>\n",
       "      <td>-51.000000</td>\n",
       "      <td>869.0</td>\n",
       "      <td>NaN</td>\n",
       "      <td>382144288.0</td>\n",
       "      <td>NaN</td>\n",
       "      <td>NaN</td>\n",
       "      <td>240.0</td>\n",
       "      <td>100.0</td>\n",
       "      <td>40.0</td>\n",
       "      <td>18.0</td>\n",
       "      <td>-57.898663</td>\n",
       "      <td>23.753819</td>\n",
       "      <td>23.454986</td>\n",
       "      <td>47.987904</td>\n",
       "      <td>3.895290</td>\n",
       "      <td>297.783019</td>\n",
       "    </tr>\n",
       "    <tr>\n",
       "      <th>2342</th>\n",
       "      <td>2342</td>\n",
       "      <td>2342</td>\n",
       "      <td>2023</td>\n",
       "      <td>11.400000</td>\n",
       "      <td>-82.600000</td>\n",
       "      <td>111.0</td>\n",
       "      <td>NaN</td>\n",
       "      <td>6250000.0</td>\n",
       "      <td>NaN</td>\n",
       "      <td>NaN</td>\n",
       "      <td>NaN</td>\n",
       "      <td>NaN</td>\n",
       "      <td>NaN</td>\n",
       "      <td>9.0</td>\n",
       "      <td>-83.502457</td>\n",
       "      <td>12.306846</td>\n",
       "      <td>0.272946</td>\n",
       "      <td>0.620407</td>\n",
       "      <td>-0.390260</td>\n",
       "      <td>296.600000</td>\n",
       "    </tr>\n",
       "    <tr>\n",
       "      <th>2343</th>\n",
       "      <td>2343</td>\n",
       "      <td>2343</td>\n",
       "      <td>2023</td>\n",
       "      <td>15.000000</td>\n",
       "      <td>-81.700000</td>\n",
       "      <td>150.0</td>\n",
       "      <td>NaN</td>\n",
       "      <td>12150000.0</td>\n",
       "      <td>NaN</td>\n",
       "      <td>NaN</td>\n",
       "      <td>NaN</td>\n",
       "      <td>NaN</td>\n",
       "      <td>NaN</td>\n",
       "      <td>18.0</td>\n",
       "      <td>-79.953651</td>\n",
       "      <td>16.796577</td>\n",
       "      <td>2.484947</td>\n",
       "      <td>1.959956</td>\n",
       "      <td>2.200520</td>\n",
       "      <td>320.909091</td>\n",
       "    </tr>\n",
       "  </tbody>\n",
       "</table>\n",
       "<p>1963 rows × 20 columns</p>\n",
       "</div>"
      ],
      "text/plain": [
       "      Unnamed: 0  storm_id  season   init_lat   init_lon  init_dist2land  \\\n",
       "0              0         0    1851  26.100000 -90.400010           335.0   \n",
       "5              5         5    1851  13.366668 -47.200000          1093.0   \n",
       "10            10        10    1851  32.500000 -73.500000           370.0   \n",
       "13            13        13    1851  28.700000 -78.000000           244.0   \n",
       "15            15        15    1852  20.633331 -67.333336           243.0   \n",
       "...          ...       ...     ...        ...        ...             ...   \n",
       "2339        2339      2339    2023  15.600000 -44.500000          1462.0   \n",
       "2340        2340      2340    2023   9.600000 -30.199999          1494.0   \n",
       "2341        2341      2341    2023  12.966667 -51.000000           869.0   \n",
       "2342        2342      2342    2023  11.400000 -82.600000           111.0   \n",
       "2343        2343      2343    2023  15.000000 -81.700000           150.0   \n",
       "\n",
       "      PDI_max_wmo  PDI_max_usa  PDI_max_tokyo  Pres_min_wmo  r34_max_wmo  \\\n",
       "0     230400000.0  230400000.0            NaN           NaN          NaN   \n",
       "5     450000000.0  450000000.0            NaN           NaN          NaN   \n",
       "10     56250000.0   56250000.0            NaN           NaN          NaN   \n",
       "13     97200000.0   97200000.0            NaN           NaN          NaN   \n",
       "15    450000000.0  450000000.0            NaN         961.0          NaN   \n",
       "...           ...          ...            ...           ...          ...   \n",
       "2339          NaN   41006248.0            NaN           NaN        130.0   \n",
       "2340          NaN   28800000.0            NaN           NaN         80.0   \n",
       "2341          NaN  382144288.0            NaN           NaN        240.0   \n",
       "2342          NaN    6250000.0            NaN           NaN          NaN   \n",
       "2343          NaN   12150000.0            NaN           NaN          NaN   \n",
       "\n",
       "      r50_max_wmo  r64_max_wmo  storm_speed_max_wmo  lon_weighted  \\\n",
       "0             NaN          NaN                 10.0    -95.977188   \n",
       "5             NaN          NaN                 42.0    -71.305283   \n",
       "10            NaN          NaN                  0.0    -73.500000   \n",
       "13            NaN          NaN                 18.0    -74.929146   \n",
       "15            NaN          NaN                 25.0    -79.829987   \n",
       "...           ...          ...                  ...           ...   \n",
       "2339          NaN          NaN                 16.0    -49.456161   \n",
       "2340          NaN          NaN                 14.0    -41.333111   \n",
       "2341        100.0         40.0                 18.0    -57.898663   \n",
       "2342          NaN          NaN                  9.0    -83.502457   \n",
       "2343          NaN          NaN                 18.0    -79.953651   \n",
       "\n",
       "      lat_weighted  lon_variance  lat_variance  latlon_covariance  \\\n",
       "0        28.109417     10.513896      1.790610          -4.143782   \n",
       "5        27.337032    159.509905    113.445331          -1.327559   \n",
       "10       32.500000      0.000000      0.000000           0.000000   \n",
       "13       33.427444      4.623666     14.761514           7.975834   \n",
       "15       27.812145     49.933213     29.701519          -3.927940   \n",
       "...            ...           ...           ...                ...   \n",
       "2339     20.863829     12.861205      9.304074         -10.854178   \n",
       "2340     14.529725     36.979959      8.056544         -17.081282   \n",
       "2341     23.753819     23.454986     47.987904           3.895290   \n",
       "2342     12.306846      0.272946      0.620407          -0.390260   \n",
       "2343     16.796577      2.484947      1.959956           2.200520   \n",
       "\n",
       "      DayofYear_mean  \n",
       "0         176.297297  \n",
       "5         233.696970  \n",
       "10        257.451613  \n",
       "13        290.451613  \n",
       "15        237.067416  \n",
       "...              ...  \n",
       "2339      272.677419  \n",
       "2340      286.306122  \n",
       "2341      297.783019  \n",
       "2342      296.600000  \n",
       "2343      320.909091  \n",
       "\n",
       "[1963 rows x 20 columns]"
      ]
     },
     "execution_count": 18,
     "metadata": {},
     "output_type": "execute_result"
    }
   ],
   "source": [
    "features_df = pd.read_csv('candidate_features.csv')\n",
    "features_df.dropna(subset=['PDI_max_usa'],inplace=True)\n",
    "features_df"
   ]
  },
  {
   "cell_type": "code",
   "execution_count": 19,
   "id": "86862f13-70df-476c-a6ec-962f0abfbafa",
   "metadata": {},
   "outputs": [
    {
     "data": {
      "text/plain": [
       "Index(['Unnamed: 0', 'storm_id', 'season', 'init_lat', 'init_lon',\n",
       "       'init_dist2land', 'PDI_max_wmo', 'PDI_max_usa', 'PDI_max_tokyo',\n",
       "       'Pres_min_wmo', 'r34_max_wmo', 'r50_max_wmo', 'r64_max_wmo',\n",
       "       'storm_speed_max_wmo', 'lon_weighted', 'lat_weighted', 'lon_variance',\n",
       "       'lat_variance', 'latlon_covariance', 'DayofYear_mean'],\n",
       "      dtype='object')"
      ]
     },
     "execution_count": 19,
     "metadata": {},
     "output_type": "execute_result"
    }
   ],
   "source": [
    "features_df.columns"
   ]
  },
  {
   "cell_type": "markdown",
   "id": "0c8efc3b-e9c7-4c28-a3a4-d45d898ee2eb",
   "metadata": {},
   "source": [
    "### Feature correlation"
   ]
  },
  {
   "cell_type": "code",
   "execution_count": 20,
   "id": "4eea0e00-bcae-4dd0-9e46-79eac612e922",
   "metadata": {},
   "outputs": [],
   "source": [
    "columns_used = ['PDI_max_usa', 'init_lat', 'init_lon','init_dist2land', 'Pres_min_wmo', 'storm_speed_max_wmo', \n",
    "                'lon_weighted', 'lat_weighted', 'lon_variance','lat_variance', 'latlon_covariance', 'DayofYear_mean']"
   ]
  },
  {
   "cell_type": "code",
   "execution_count": 34,
   "id": "40b9db7c-4b89-4d1b-a95e-dac2fd563a9d",
   "metadata": {},
   "outputs": [],
   "source": [
    "columns_corr = features_df[columns_used].corr()"
   ]
  },
  {
   "cell_type": "code",
   "execution_count": 22,
   "id": "0ff8ecad-f422-422c-b6a8-65db4c333368",
   "metadata": {},
   "outputs": [
    {
     "data": {
      "text/plain": [
       "<Axes: >"
      ]
     },
     "execution_count": 22,
     "metadata": {},
     "output_type": "execute_result"
    },
    {
     "data": {
      "image/png": "[encoded data removed]",
      "text/plain": [
       "<Figure size 640x480 with 2 Axes>"
      ]
     },
     "metadata": {},
     "output_type": "display_data"
    }
   ],
   "source": [
    "sn.heatmap(data = columns_corr, cmap = 'coolwarm')\n",
    "# This heatmap shows clear negative correlation with Pres_min_wmo, which is physically intuitive. \n",
    "# However, if Pres_min_wmo is from any time in the storm’s lifetime (not only the initial state),\n",
    "# it might be tautologically correlated with high final intensity (and thus high PDI)\n",
    "# We still want to use min pressure despite of this to in the study of feature importance. "
   ]
  },
  {
   "cell_type": "markdown",
   "id": "f45b018d-5e2f-4667-8bcc-07aed776ce96",
   "metadata": {},
   "source": [
    "### Build features"
   ]
  },
  {
   "cell_type": "code",
   "execution_count": 23,
   "id": "d40d2de4-c3b7-4069-8bc3-1bbe8e21167c",
   "metadata": {},
   "outputs": [],
   "source": [
    "def build_Xy(df, feature_cols, target_col='PDI_max_usa'):\n",
    "    df_subset = df[feature_cols].copy()\n",
    "    # fill na with mean:\n",
    "    for col in feature_cols:\n",
    "        df_subset[col] = df_subset[col].fillna(df_subset[col].mean())\n",
    "    predictor_cols = [x for x in feature_cols if x != target_col]\n",
    "    X = df_subset[predictor_cols].copy()\n",
    "    y = df_subset[target_col].copy()\n",
    "    \n",
    "    return X, y"
   ]
  },
  {
   "cell_type": "code",
   "execution_count": 24,
   "id": "c16249db-b267-447d-9b0e-0d59d456d500",
   "metadata": {},
   "outputs": [],
   "source": [
    "X, y = build_Xy(features_df, feature_cols=columns_used, target_col='PDI_max_usa')\n",
    "X_train, X_test, y_train, y_test = train_test_split(X, y, test_size=0.2, random_state=42)"
   ]
  },
  {
   "cell_type": "markdown",
   "id": "3c669395-600d-4045-9791-c85b0c274770",
   "metadata": {},
   "source": [
    "### Simple linear regression"
   ]
  },
  {
   "cell_type": "code",
   "execution_count": 25,
   "id": "531ae672-ea8b-4b71-b044-4708ec5b5212",
   "metadata": {},
   "outputs": [
    {
     "name": "stdout",
     "output_type": "stream",
     "text": [
      "linear regression\n",
      "train R^2: 0.7307258971787837\n",
      "test R^2: 0.7280858154966459\n",
      "coefficients: \n",
      "init_lat: -2684166.5173710342\n",
      "init_lon: 1242595.7661174564\n",
      "init_dist2land: 16114.511760400692\n",
      "Pres_min_wmo: -10809974.231863497\n",
      "storm_speed_max_wmo: 1091628.45183507\n",
      "lon_weighted: -2327756.51854208\n",
      "lat_weighted: 2043972.188007621\n",
      "lon_variance: 282681.62296632316\n",
      "lat_variance: 305412.939609037\n",
      "latlon_covariance: -479611.8270995628\n",
      "DayofYear_mean: 119039.46911525216\n",
      "intercept: 10638380198.173347\n"
     ]
    }
   ],
   "source": [
    "linreg = LinearRegression()\n",
    "linreg.fit(X_train, y_train)\n",
    "\n",
    "train_score = linreg.score(X_train, y_train)\n",
    "test_score = linreg.score(X_test, y_test)\n",
    "\n",
    "print(\"linear regression\")\n",
    "print(\"train R^2:\", train_score)\n",
    "print(\"test R^2:\", test_score)\n",
    "\n",
    "print(\"coefficients: \")\n",
    "coef_dict = zip(X.columns, linreg.coef_)\n",
    "for feature, coef in coef_dict:\n",
    "    print(f\"{feature}: {coef}\")\n",
    "    \n",
    "print(\"intercept:\", linreg.intercept_)"
   ]
  },
  {
   "cell_type": "markdown",
   "id": "d18ce374-19a3-44ae-9d3d-bdf0b6d6d6a9",
   "metadata": {},
   "source": [
    "### Random forest"
   ]
  },
  {
   "cell_type": "code",
   "execution_count": 26,
   "id": "9b32679b-bd56-4ce3-a4c9-2fb436106e20",
   "metadata": {
    "scrolled": true
   },
   "outputs": [
    {
     "name": "stdout",
     "output_type": "stream",
     "text": [
      "random forest regressor\n",
      "train R^2: 0.9761559840338515\n",
      "test R^2: 0.813363666640597\n",
      "init_lat importance: 0.0152\n",
      "init_lon importance: 0.0114\n",
      "init_dist2land importance: 0.0128\n",
      "Pres_min_wmo importance: 0.8138\n",
      "storm_speed_max_wmo importance: 0.0132\n",
      "lon_weighted importance: 0.0139\n",
      "lat_weighted importance: 0.0197\n",
      "lon_variance importance: 0.0192\n",
      "lat_variance importance: 0.0489\n",
      "latlon_covariance importance: 0.0181\n",
      "DayofYear_mean importance: 0.0137\n"
     ]
    }
   ],
   "source": [
    "rf = RandomForestRegressor(n_estimators=100, random_state=42)\n",
    "rf.fit(X_train, y_train)\n",
    "\n",
    "train_score_rf = rf.score(X_train, y_train)\n",
    "test_score_rf = rf.score(X_test, y_test)\n",
    "print(\"random forest regressor\")\n",
    "print(\"train R^2:\", train_score_rf)\n",
    "print(\"test R^2:\", test_score_rf)\n",
    "\n",
    "importances = rf.feature_importances_\n",
    "for feat_name, imp in zip(X.columns, importances):\n",
    "    print(f\"{feat_name} importance: {imp:.4f}\")"
   ]
  },
  {
   "cell_type": "markdown",
   "id": "73559059-265e-4e5a-a433-96ce4d4db54c",
   "metadata": {},
   "source": [
    "### PCA"
   ]
  },
  {
   "cell_type": "code",
   "execution_count": 27,
   "id": "84d6df20-d904-4ac8-af56-9a66dd3df230",
   "metadata": {},
   "outputs": [
    {
     "name": "stdout",
     "output_type": "stream",
     "text": [
      "PCA results (3 components):\n",
      "explained variance ratio: [0.29866344 0.21695998 0.15144609]\n"
     ]
    }
   ],
   "source": [
    "# combine train + test for a PCA on the entire dataset \n",
    "# because PCA is unsupervised, we can just do it on X to see overall structure\n",
    "X_full = pd.concat([X_train, X_test])\n",
    "scaler_pca = StandardScaler()\n",
    "X_full_scaled = scaler_pca.fit_transform(X_full)\n",
    "\n",
    "pca = PCA(n_components=3)\n",
    "pca.fit(X_full_scaled)\n",
    "\n",
    "print(\"PCA results (3 components):\")\n",
    "print(\"explained variance ratio:\", pca.explained_variance_ratio_)\n",
    "\n",
    "# optionally transform X to get principal components\n",
    "X_pcs = pca.transform(X_full_scaled)"
   ]
  },
  {
   "cell_type": "code",
   "execution_count": 28,
   "id": "af4d92d4-d6e9-4b7f-bb58-9e3c7816bf1c",
   "metadata": {},
   "outputs": [
    {
     "data": {
      "image/png": "[encoded data removed]",
      "text/plain": [
       "<Figure size 700x500 with 1 Axes>"
      ]
     },
     "metadata": {},
     "output_type": "display_data"
    }
   ],
   "source": [
    "plt.figure(figsize=(7,5))\n",
    "plt.scatter(X_pcs[:,0], X_pcs[:,1], alpha=0.5)\n",
    "plt.title(\"scatter of first two principal components\")\n",
    "plt.xlabel(\"PC1\")\n",
    "plt.ylabel(\"PC2\")\n",
    "plt.show()\n",
    "# there isn't a particularly clear clustering pattern from the two principal components"
   ]
  },
  {
   "cell_type": "code",
   "execution_count": 29,
   "id": "1b73d7a2-f5c2-4c7c-952d-287b7550111b",
   "metadata": {},
   "outputs": [
    {
     "name": "stdout",
     "output_type": "stream",
     "text": [
      "feature init_lat: PC1 loading=-0.121, PC2 loading=0.390, PC3 loading=0.538\n",
      "feature init_lon: PC1 loading=0.352, PC2 loading=-0.438, PC3 loading=0.177\n",
      "feature init_dist2land: PC1 loading=0.276, PC2 loading=-0.286, PC3 loading=0.399\n",
      "feature Pres_min_wmo: PC1 loading=-0.236, PC2 loading=-0.009, PC3 loading=0.359\n",
      "feature storm_speed_max_wmo: PC1 loading=0.382, PC2 loading=0.158, PC3 loading=-0.030\n",
      "feature lon_weighted: PC1 loading=0.380, PC2 loading=-0.253, PC3 loading=0.366\n",
      "feature lat_weighted: PC1 loading=0.152, PC2 loading=0.485, PC3 loading=0.380\n",
      "feature lon_variance: PC1 loading=0.377, PC2 loading=0.188, PC3 loading=-0.226\n",
      "feature lat_variance: PC1 loading=0.441, PC2 loading=0.158, PC3 loading=-0.237\n",
      "feature latlon_covariance: PC1 loading=0.259, PC2 loading=0.426, PC3 loading=-0.059\n",
      "feature DayofYear_mean: PC1 loading=0.115, PC2 loading=-0.096, PC3 loading=-0.024\n"
     ]
    }
   ],
   "source": [
    "loadings = pca.components_.T  # shape (n_features, n_components)\n",
    "for i, col in enumerate(X.columns):\n",
    "    print(f\"feature {col}: PC1 loading={loadings[i,0]:.3f}, PC2 loading={loadings[i,1]:.3f}, PC3 loading={loadings[i,2]:.3f}\")\n"
   ]
  },
  {
   "cell_type": "code",
   "execution_count": 35,
   "id": "76488864-234c-4a75-88c5-7762c953d743",
   "metadata": {},
   "outputs": [
    {
     "data": {
      "image/png": "[encoded data removed]",
      "text/plain": [
       "<Figure size 800x500 with 1 Axes>"
      ]
     },
     "metadata": {},
     "output_type": "display_data"
    }
   ],
   "source": [
    "importances = rf.feature_importances_\n",
    "indices = np.argsort(importances)[::-1]  # descending sort\n",
    "feature_names = X.columns[indices]\n",
    "sorted_importances = importances[indices]\n",
    "\n",
    "plt.figure(figsize=(8, 5))\n",
    "ax = sns.barplot(x=sorted_importances, y=feature_names, orient='h')\n",
    "\n",
    "# Annotate each bar with its importance value\n",
    "for i, v in enumerate(sorted_importances):\n",
    "    ax.text(v + 0.01, i, f\"{v:.3f}\", va='center')\n",
    "\n",
    "plt.xlabel(\"Feature Importance\")\n",
    "plt.ylabel(\"Features\")\n",
    "plt.title(\"Random Forest Feature Importances for PDI_max_usa\")\n",
    "plt.show()"
   ]
  },
  {
   "cell_type": "markdown",
   "id": "226a76cc-f47b-4797-8c42-5ebe8c2cb72d",
   "metadata": {},
   "source": [
    "## Step 3: Clustering algorithms"
   ]
  },
  {
   "cell_type": "markdown",
   "id": "3541cb60-dfe2-4853-9b80-ae0142140f1f",
   "metadata": {},
   "source": [
    "## Step 4: Cluster analysis and evaluation"
   ]
  },
  {
   "cell_type": "code",
   "execution_count": null,
   "id": "d3e80110-2e6c-4176-a474-7fefca89b628",
   "metadata": {},
   "outputs": [],
   "source": []
  },
  {
   "cell_type": "code",
   "execution_count": null,
   "id": "32a0df17-6837-4f5c-8f5e-465a30c58b37",
   "metadata": {},
   "outputs": [],
   "source": []
  }
 ],
 "metadata": {
  "kernelspec": {
   "display_name": "Python 3 (ipykernel)",
   "language": "python",
   "name": "python3"
  },
  "language_info": {
   "codemirror_mode": {
    "name": "ipython",
    "version": 3
   },
   "file_extension": ".py",
   "mimetype": "text/x-python",
   "name": "python",
   "nbconvert_exporter": "python",
   "pygments_lexer": "ipython3",
   "version": "3.12.7"
  }
 },
 "nbformat": 4,
 "nbformat_minor": 5
}
